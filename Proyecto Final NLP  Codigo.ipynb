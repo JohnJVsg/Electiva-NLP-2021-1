{
 "cells": [
  {
   "cell_type": "code",
   "execution_count": 113,
   "metadata": {
    "id": "JWvngAgXJlUs"
   },
   "outputs": [],
   "source": [
    "#!pip install python-docx\n",
    "import docx\n",
    "import pandas as pd"
   ]
  },
  {
   "cell_type": "code",
   "execution_count": 117,
   "metadata": {
    "id": "nh9wuDkKLa-x"
   },
   "outputs": [],
   "source": [
    "documento = docx.Document(\"/content/PRUEBA TECNICA SQL SERVER.docx\")"
   ]
  },
  {
   "cell_type": "code",
   "execution_count": 118,
   "metadata": {
    "colab": {
     "base_uri": "https://localhost:8080/"
    },
    "id": "PTr7vn7mMAER",
    "outputId": "70751998-2f30-456b-e4d6-ccaa22ba8c9b"
   },
   "outputs": [
    {
     "name": "stdout",
     "output_type": "stream",
     "text": [
      "PRUEBA TECNICA SQL SERVER\n",
      "100%\n",
      "\n",
      "¿Que establece una llave foránea de una tabla? (5 puntos) Coloque un equis (X) al final de la opción elegida\n",
      "\n",
      "Integridad Referencial X\n",
      "Integridad de los Registros\n",
      "Integridad de las Columnas\n",
      "\n",
      "Escriba el comando que elimina un registro de las bases de datos: (5 Puntos)\n",
      "\n",
      "Delete from… where…\n",
      "\n",
      "Insertar un registro en la Tabla_Ventas. (10 Puntos)\n",
      "\n",
      "\n",
      "Insert Into dbo.Ventas\n",
      "Select 100010, ‘John Garzon’, ‘Internet’, 20\n"
     ]
    },
    {
     "data": {
      "text/plain": [
       "[None,\n",
       " None,\n",
       " None,\n",
       " None,\n",
       " None,\n",
       " None,\n",
       " None,\n",
       " None,\n",
       " None,\n",
       " None,\n",
       " None,\n",
       " None,\n",
       " None,\n",
       " None,\n",
       " None,\n",
       " None,\n",
       " None,\n",
       " None]"
      ]
     },
     "execution_count": 118,
     "metadata": {
      "tags": []
     },
     "output_type": "execute_result"
    }
   ],
   "source": [
    "[print(p.text) for p in documento.paragraphs]"
   ]
  },
  {
   "cell_type": "code",
   "execution_count": 119,
   "metadata": {
    "colab": {
     "base_uri": "https://localhost:8080/"
    },
    "id": "xNINdP_xQYQ5",
    "outputId": "97e5bfda-f1e9-459e-f4bc-19669228f2c7"
   },
   "outputs": [
    {
     "data": {
      "text/plain": [
       "18"
      ]
     },
     "execution_count": 119,
     "metadata": {
      "tags": []
     },
     "output_type": "execute_result"
    }
   ],
   "source": [
    "len(documento.paragraphs)"
   ]
  },
  {
   "cell_type": "code",
   "execution_count": 123,
   "metadata": {
    "id": "_UEKUeIcOTl5"
   },
   "outputs": [],
   "source": [
    "respuesta1 = documento.paragraphs[5].text\n",
    "respuesta2 = documento.paragraphs[11].text\n",
    "respuesta3 = documento.paragraphs[16].text \n",
    "respuesta4 = documento.paragraphs[17].text"
   ]
  },
  {
   "cell_type": "code",
   "execution_count": 121,
   "metadata": {
    "colab": {
     "base_uri": "https://localhost:8080/",
     "height": 35
    },
    "id": "CnDlfDc2XfwL",
    "outputId": "3b737286-bf17-4837-93c1-1b7cdea47adc"
   },
   "outputs": [
    {
     "data": {
      "application/vnd.google.colaboratory.intrinsic+json": {
       "type": "string"
      },
      "text/plain": [
       "'SELECT 100010, ‘JOHN GARZON’, ‘INTERNET’, 20'"
      ]
     },
     "execution_count": 121,
     "metadata": {
      "tags": []
     },
     "output_type": "execute_result"
    }
   ],
   "source": [
    "respuesta1.upper()\n",
    "respuesta2.upper()\n",
    "respuesta3.upper()\n",
    "respuesta4.upper()"
   ]
  },
  {
   "cell_type": "code",
   "execution_count": 124,
   "metadata": {
    "colab": {
     "base_uri": "https://localhost:8080/"
    },
    "id": "EILcNRpXZiuT",
    "outputId": "83f437e3-dd2f-426c-8d7d-7b94062ce437"
   },
   "outputs": [
    {
     "name": "stdout",
     "output_type": "stream",
     "text": [
      "Correcto!\n",
      "Correcto!\n",
      "Correcto!\n",
      "Correcto!\n"
     ]
    }
   ],
   "source": [
    "if respuesta1 == \"Integridad Referencial X\":\n",
    "  print(\"Correcto!\")\n",
    "else:\n",
    "  print(\"incorrecto!\")\n",
    "if respuesta2 == \"Delete from… where…\":\n",
    "  print(\"Correcto!\")\n",
    "else:\n",
    "  print(\"incorrecto!\")\n",
    "if respuesta3 == \"Insert Into dbo.Ventas\":\n",
    "  print(\"Correcto!\")\n",
    "else:\n",
    "  print(\"incorrecto!\")\n",
    "if respuesta4 == \"Select 100010, ‘John Garzon’, ‘Internet’, 20\":\n",
    "  print(\"Correcto!\")\n",
    "else:\n",
    "  print(\"incorrecto!\")"
   ]
  },
  {
   "cell_type": "code",
   "execution_count": 125,
   "metadata": {
    "id": "5rnupIZCaOSb"
   },
   "outputs": [],
   "source": [
    "documento1 = docx.Document(\"/content/PRUEBA TECNICA SQL SERVER1.docx\")"
   ]
  },
  {
   "cell_type": "code",
   "execution_count": 126,
   "metadata": {
    "id": "Ccoza7JnazYj"
   },
   "outputs": [],
   "source": [
    "respuesta1 = documento1.paragraphs[5].text\n",
    "respuesta2 = documento1.paragraphs[11].text\n",
    "respuesta3 = documento1.paragraphs[16].text \n",
    "respuesta4 = documento1.paragraphs[17].text"
   ]
  },
  {
   "cell_type": "code",
   "execution_count": 127,
   "metadata": {
    "colab": {
     "base_uri": "https://localhost:8080/",
     "height": 35
    },
    "id": "recDoiwWa5Or",
    "outputId": "a7acada1-f4fa-4fcc-fa4d-688d73577f0c"
   },
   "outputs": [
    {
     "data": {
      "application/vnd.google.colaboratory.intrinsic+json": {
       "type": "string"
      },
      "text/plain": [
       "'SELECT 100010, ‘JOHN GARZON’, ‘INTERNET’, 20'"
      ]
     },
     "execution_count": 127,
     "metadata": {
      "tags": []
     },
     "output_type": "execute_result"
    }
   ],
   "source": [
    "respuesta1.upper()\n",
    "respuesta2.upper()\n",
    "respuesta3.upper()\n",
    "respuesta4.upper()"
   ]
  },
  {
   "cell_type": "code",
   "execution_count": 128,
   "metadata": {
    "colab": {
     "base_uri": "https://localhost:8080/"
    },
    "id": "YYZ3ZtMia53r",
    "outputId": "5f65ac04-8053-4c67-ad14-c85a0e9b04b8"
   },
   "outputs": [
    {
     "name": "stdout",
     "output_type": "stream",
     "text": [
      "incorrecto!\n",
      "Correcto!\n",
      "Correcto!\n",
      "Correcto!\n"
     ]
    }
   ],
   "source": [
    "if respuesta1 == \"Integridad Referencial X\":\n",
    "  print(\"Correcto!\")\n",
    "else:\n",
    "  print(\"incorrecto!\")\n",
    "if respuesta2 == \"Delete from… where…\":\n",
    "  print(\"Correcto!\")\n",
    "else:\n",
    "  print(\"incorrecto!\")\n",
    "if respuesta3 == \"Insert Into dbo.Ventas\":\n",
    "  print(\"Correcto!\")\n",
    "else:\n",
    "  print(\"incorrecto!\")\n",
    "if respuesta4 == \"Select 100010, ‘John Garzon’, ‘Internet’, 20\":\n",
    "  print(\"Correcto!\")\n",
    "else:\n",
    "  print(\"incorrecto!\")"
   ]
  }
 ],
 "metadata": {
  "colab": {
   "name": "PruebaSQL.ipynb",
   "provenance": []
  },
  "kernelspec": {
   "display_name": "Python 3",
   "language": "python",
   "name": "python3"
  },
  "language_info": {
   "codemirror_mode": {
    "name": "ipython",
    "version": 3
   },
   "file_extension": ".py",
   "mimetype": "text/x-python",
   "name": "python",
   "nbconvert_exporter": "python",
   "pygments_lexer": "ipython3",
   "version": "3.8.3"
  }
 },
 "nbformat": 4,
 "nbformat_minor": 1
}
