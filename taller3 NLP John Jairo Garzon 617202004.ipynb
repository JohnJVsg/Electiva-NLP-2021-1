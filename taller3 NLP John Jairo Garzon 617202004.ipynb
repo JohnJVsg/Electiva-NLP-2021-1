{
 "cells": [
  {
   "cell_type": "markdown",
   "metadata": {},
   "source": [
    "<img src='https://encrypted-tbn0.gstatic.com/images?q=tbn%3AANd9GcQ-VfNtOyJbsaxu43Kztf_cv1mgBG6ZIQZEVw&usqp=CAU'>\n",
    "\n",
    "# Procesamiento de Lenguage Natural\n",
    "\n",
    "## Taller #3: Web Scraping\n",
    "`Fecha de entrega: Marzo 10, 2021. (Antes del inicio de la próxima clase).`"
   ]
  },
  {
   "cell_type": "markdown",
   "metadata": {},
   "source": [
    "# Punto 1:\n",
    "\n",
    "- `[15 pts]` Hacer Web Scraping de 10 animales en Wikipedia (en búcle)\n",
    "- `[10 pts]` Obtener el **encabezado** de cada animal\n",
    "- `[15 pts]` Obtener todos los **textos** que están en las etiquetas de negrilla."
   ]
  },
  {
   "cell_type": "code",
   "execution_count": null,
   "metadata": {},
   "outputs": [],
   "source": [
    "#Punto 1 A\n",
    "\n",
    "import requests\n",
    "from bs4 import BeautifulSoup\n",
    "\n",
    "url = 'https://es.wikipedia.org/wiki/'\n",
    "\n",
    "for bucle in ['Vultur_gryphus','Panthera_tigris','Didelphimorphia','Mus_(animal)','Oryctolagus_cuniculus',\\\n",
    "          'Testudines','Serpentes','Gallus_gallus_domesticus','Canis_latrans','Crocodilia']:\n",
    "\n",
    "    r = requests.get(url + str(bucle))\n",
    "    print('******************', bucle, '******************')\n",
    "    \n",
    "    soup = BeautifulSoup(r.content, \"html.parser\")\n",
    "    \n",
    "    for link in soup.find_all(\"a\"):\n",
    "        print(\"<a href='>%s'>%s</a>\" % (link.get(\"href\"), link.text))"
   ]
  },
  {
   "cell_type": "code",
   "execution_count": null,
   "metadata": {},
   "outputs": [],
   "source": [
    "#Punto 1 B\n",
    "\n",
    "import requests\n",
    "from bs4 import BeautifulSoup\n",
    "\n",
    "url = 'https://es.wikipedia.org/wiki/'\n",
    "\n",
    "for bucle in ['Vultur_gryphus','Panthera_tigris','Didelphimorphia','Mus_(animal)','Oryctolagus_cuniculus',\\\n",
    "          'Testudines','Serpentes','Gallus_gallus_domesticus','Canis_latrans','Crocodilia']:\n",
    "\n",
    "    r = requests.get(url + str(bucle))\n",
    "    #print('******************', bucle, '******************')\n",
    "    \n",
    "    soup = BeautifulSoup(r.content, \"html.parser\")\n",
    "            \n",
    "    nombre = soup.find(class_=\"firstHeading\").text\n",
    "    print(f\"El nombre del animal es <<{nombre}>>.\")"
   ]
  },
  {
   "cell_type": "code",
   "execution_count": null,
   "metadata": {},
   "outputs": [],
   "source": [
    "#Punto 1 C\n",
    "\n",
    "import requests\n",
    "from bs4 import BeautifulSoup\n",
    "\n",
    "url = 'https://es.wikipedia.org/wiki/'\n",
    "\n",
    "for bucle in ['Vultur_gryphus','Panthera_tigris','Didelphimorphia','Mus_(animal)','Oryctolagus_cuniculus',\\\n",
    "      'Testudines','Serpentes','Gallus_gallus_domesticus','Canis_latrans','Crocodilia']:\n",
    "\n",
    "    r = requests.get(url + str(bucle))\n",
    "    print('******************', bucle, '******************')\n",
    "    \n",
    "    soup = BeautifulSoup(r.content, \"html.parser\")\n",
    "            \n",
    "    nombre = soup.find(\"p\").text\n",
    "    print(nombre)"
   ]
  },
  {
   "cell_type": "markdown",
   "metadata": {},
   "source": [
    "# Punto 2:\n",
    "- `[10 pts]` Usando regex, reemplazar todas las tíldes del punto anterior por un asterisco (¡Ojo, los espacios se quedan!)\n"
   ]
  },
  {
   "cell_type": "code",
   "execution_count": null,
   "metadata": {},
   "outputs": [],
   "source": [
    "import requests\n",
    "from bs4 import BeautifulSoup\n",
    "import re\n",
    "from unicodedata import normalize\n",
    "\n",
    "url = 'https://es.wikipedia.org/wiki/'\n",
    "\n",
    "for bucle in ['Vultur_gryphus','Panthera_tigris','Didelphimorphia','Mus_(animal)','Oryctolagus_cuniculus',\\\n",
    "          'Testudines','Serpentes','Gallus_gallus_domesticus','Canis_latrans','Crocodilia']:\n",
    "\n",
    "    r = requests.get(url + str(bucle))\n",
    "    print('******************', bucle, '******************')\n",
    "    \n",
    "    soup = BeautifulSoup(r.content, \"html.parser\")\n",
    "            \n",
    "    nombre = soup.find(\"p\").text\n",
    "    trans_tab = dict.fromkeys(map(ord, u'\\u0301\\u0308'), None)\n",
    "    nombre = normalize('NFKC', normalize('NFKD', nombre).translate(trans_tab))\n",
    "    print(nombre)"
   ]
  }
 ],
 "metadata": {
  "kernelspec": {
   "display_name": "Python 3",
   "language": "python",
   "name": "python3"
  },
  "language_info": {
   "codemirror_mode": {
    "name": "ipython",
    "version": 3
   },
   "file_extension": ".py",
   "mimetype": "text/x-python",
   "name": "python",
   "nbconvert_exporter": "python",
   "pygments_lexer": "ipython3",
   "version": "3.8.3"
  }
 },
 "nbformat": 4,
 "nbformat_minor": 2
}
